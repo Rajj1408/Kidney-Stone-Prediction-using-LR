{
 "cells": [
  {
   "cell_type": "code",
   "execution_count": 1,
   "id": "a5ec0e41",
   "metadata": {
    "_cell_guid": "b1076dfc-b9ad-4769-8c92-a6c4dae69d19",
    "_uuid": "8f2839f25d086af736a60e9eeb907d3b93b6e0e5",
    "execution": {
     "iopub.execute_input": "2023-06-13T02:23:40.558415Z",
     "iopub.status.busy": "2023-06-13T02:23:40.558088Z",
     "iopub.status.idle": "2023-06-13T02:23:40.573586Z",
     "shell.execute_reply": "2023-06-13T02:23:40.572434Z"
    },
    "papermill": {
     "duration": 0.023396,
     "end_time": "2023-06-13T02:23:40.575858",
     "exception": false,
     "start_time": "2023-06-13T02:23:40.552462",
     "status": "completed"
    },
    "tags": []
   },
   "outputs": [
    {
     "name": "stdout",
     "output_type": "stream",
     "text": [
      "/kaggle/input/kidney-stone-data/kidney_stone_data.csv\n"
     ]
    }
   ],
   "source": [
    "# This Python 3 environment comes with many helpful analytics libraries installed\n",
    "# It is defined by the kaggle/python Docker image: https://github.com/kaggle/docker-python\n",
    "# For example, here's several helpful packages to load\n",
    "\n",
    "import numpy as np # linear algebra\n",
    "import pandas as pd # data processing, CSV file I/O (e.g. pd.read_csv)\n",
    "\n",
    "# Input data files are available in the read-only \"../input/\" directory\n",
    "# For example, running this (by clicking run or pressing Shift+Enter) will list all files under the input directory\n",
    "\n",
    "import os\n",
    "for dirname, _, filenames in os.walk('/kaggle/input'):\n",
    "    for filename in filenames:\n",
    "        print(os.path.join(dirname, filename))\n",
    "\n",
    "# You can write up to 20GB to the current directory (/kaggle/working/) that gets preserved as output when you create a version using \"Save & Run All\" \n",
    "# You can also write temporary files to /kaggle/temp/, but they won't be saved outside of the current session"
   ]
  },
  {
   "cell_type": "code",
   "execution_count": 2,
   "id": "ce2084ca",
   "metadata": {
    "execution": {
     "iopub.execute_input": "2023-06-13T02:23:40.584777Z",
     "iopub.status.busy": "2023-06-13T02:23:40.584107Z",
     "iopub.status.idle": "2023-06-13T02:23:40.618384Z",
     "shell.execute_reply": "2023-06-13T02:23:40.617552Z"
    },
    "papermill": {
     "duration": 0.040199,
     "end_time": "2023-06-13T02:23:40.620161",
     "exception": false,
     "start_time": "2023-06-13T02:23:40.579962",
     "status": "completed"
    },
    "tags": []
   },
   "outputs": [
    {
     "data": {
      "text/html": [
       "<div>\n",
       "<style scoped>\n",
       "    .dataframe tbody tr th:only-of-type {\n",
       "        vertical-align: middle;\n",
       "    }\n",
       "\n",
       "    .dataframe tbody tr th {\n",
       "        vertical-align: top;\n",
       "    }\n",
       "\n",
       "    .dataframe thead th {\n",
       "        text-align: right;\n",
       "    }\n",
       "</style>\n",
       "<table border=\"1\" class=\"dataframe\">\n",
       "  <thead>\n",
       "    <tr style=\"text-align: right;\">\n",
       "      <th></th>\n",
       "      <th>treatment</th>\n",
       "      <th>stone_size</th>\n",
       "      <th>success</th>\n",
       "    </tr>\n",
       "  </thead>\n",
       "  <tbody>\n",
       "    <tr>\n",
       "      <th>0</th>\n",
       "      <td>B</td>\n",
       "      <td>large</td>\n",
       "      <td>1</td>\n",
       "    </tr>\n",
       "    <tr>\n",
       "      <th>1</th>\n",
       "      <td>A</td>\n",
       "      <td>large</td>\n",
       "      <td>1</td>\n",
       "    </tr>\n",
       "    <tr>\n",
       "      <th>2</th>\n",
       "      <td>A</td>\n",
       "      <td>large</td>\n",
       "      <td>0</td>\n",
       "    </tr>\n",
       "    <tr>\n",
       "      <th>3</th>\n",
       "      <td>A</td>\n",
       "      <td>large</td>\n",
       "      <td>1</td>\n",
       "    </tr>\n",
       "    <tr>\n",
       "      <th>4</th>\n",
       "      <td>A</td>\n",
       "      <td>large</td>\n",
       "      <td>1</td>\n",
       "    </tr>\n",
       "  </tbody>\n",
       "</table>\n",
       "</div>"
      ],
      "text/plain": [
       "  treatment stone_size  success\n",
       "0         B      large        1\n",
       "1         A      large        1\n",
       "2         A      large        0\n",
       "3         A      large        1\n",
       "4         A      large        1"
      ]
     },
     "execution_count": 2,
     "metadata": {},
     "output_type": "execute_result"
    }
   ],
   "source": [
    "df = pd.read_csv('/kaggle/input/kidney-stone-data/kidney_stone_data.csv')\n",
    "df.head()"
   ]
  },
  {
   "cell_type": "code",
   "execution_count": 3,
   "id": "b4ecdd04",
   "metadata": {
    "execution": {
     "iopub.execute_input": "2023-06-13T02:23:40.629512Z",
     "iopub.status.busy": "2023-06-13T02:23:40.628505Z",
     "iopub.status.idle": "2023-06-13T02:23:40.639319Z",
     "shell.execute_reply": "2023-06-13T02:23:40.638516Z"
    },
    "papermill": {
     "duration": 0.01706,
     "end_time": "2023-06-13T02:23:40.641134",
     "exception": false,
     "start_time": "2023-06-13T02:23:40.624074",
     "status": "completed"
    },
    "tags": []
   },
   "outputs": [
    {
     "data": {
      "text/plain": [
       "treatment     0\n",
       "stone_size    0\n",
       "success       0\n",
       "dtype: int64"
      ]
     },
     "execution_count": 3,
     "metadata": {},
     "output_type": "execute_result"
    }
   ],
   "source": [
    "df.isnull().sum()"
   ]
  },
  {
   "cell_type": "markdown",
   "id": "39ff6c33",
   "metadata": {
    "papermill": {
     "duration": 0.00347,
     "end_time": "2023-06-13T02:23:40.648698",
     "exception": false,
     "start_time": "2023-06-13T02:23:40.645228",
     "status": "completed"
    },
    "tags": []
   },
   "source": [
    "# **Visualization**"
   ]
  },
  {
   "cell_type": "code",
   "execution_count": 4,
   "id": "59498432",
   "metadata": {
    "execution": {
     "iopub.execute_input": "2023-06-13T02:23:40.657193Z",
     "iopub.status.busy": "2023-06-13T02:23:40.656758Z",
     "iopub.status.idle": "2023-06-13T02:23:41.815730Z",
     "shell.execute_reply": "2023-06-13T02:23:41.814992Z"
    },
    "papermill": {
     "duration": 1.16542,
     "end_time": "2023-06-13T02:23:41.817831",
     "exception": false,
     "start_time": "2023-06-13T02:23:40.652411",
     "status": "completed"
    },
    "tags": []
   },
   "outputs": [],
   "source": [
    "import matplotlib.pyplot as plt\n",
    "import seaborn as sns"
   ]
  },
  {
   "cell_type": "code",
   "execution_count": 5,
   "id": "acb82975",
   "metadata": {
    "execution": {
     "iopub.execute_input": "2023-06-13T02:23:41.827538Z",
     "iopub.status.busy": "2023-06-13T02:23:41.826485Z",
     "iopub.status.idle": "2023-06-13T02:23:42.047880Z",
     "shell.execute_reply": "2023-06-13T02:23:42.047223Z"
    },
    "papermill": {
     "duration": 0.227787,
     "end_time": "2023-06-13T02:23:42.049554",
     "exception": false,
     "start_time": "2023-06-13T02:23:41.821767",
     "status": "completed"
    },
    "tags": []
   },
   "outputs": [
    {
     "data": {
      "image/png": "[encoded data removed]",
      "text/plain": [
       "<Figure size 1000x600 with 1 Axes>"
      ]
     },
     "metadata": {},
     "output_type": "display_data"
    }
   ],
   "source": [
    "success_rate = df.groupby('treatment')['success'].mean()\n",
    "plt.figure(figsize=(10,6))\n",
    "sns.barplot(x=success_rate.index, y=success_rate.values)\n",
    "plt.xlabel('treatment')\n",
    "plt.ylabel('success rate')\n",
    "plt.title('Success Ratio of treatment A VS B')\n",
    "plt.show()"
   ]
  },
  {
   "cell_type": "code",
   "execution_count": 6,
   "id": "9e8f025c",
   "metadata": {
    "execution": {
     "iopub.execute_input": "2023-06-13T02:23:42.060934Z",
     "iopub.status.busy": "2023-06-13T02:23:42.060135Z",
     "iopub.status.idle": "2023-06-13T02:23:42.319295Z",
     "shell.execute_reply": "2023-06-13T02:23:42.318722Z"
    },
    "papermill": {
     "duration": 0.265839,
     "end_time": "2023-06-13T02:23:42.320839",
     "exception": false,
     "start_time": "2023-06-13T02:23:42.055000",
     "status": "completed"
    },
    "tags": []
   },
   "outputs": [
    {
     "data": {
      "text/plain": [
       "<Figure size 800x600 with 0 Axes>"
      ]
     },
     "metadata": {},
     "output_type": "display_data"
    },
    {
     "data": {
      "image/png": "[encoded data removed]",
      "text/plain": [
       "<Figure size 640x480 with 1 Axes>"
      ]
     },
     "metadata": {},
     "output_type": "display_data"
    }
   ],
   "source": [
    "# Calculate success rates for each treatment and stone size combination\n",
    "success_rates_by_size = df.groupby(['treatment', 'stone_size'])['success'].mean().unstack()\n",
    "\n",
    "# Plot the stacked bar plot\n",
    "plt.figure(figsize=(8, 6))\n",
    "success_rates_by_size.plot(kind='bar', stacked=True)\n",
    "plt.xlabel('Treatment')\n",
    "plt.ylabel('Success Rate')\n",
    "plt.title('Success Rates of Treatment A vs. Treatment B by Stone Size')\n",
    "plt.legend(title='Stone Size')\n",
    "plt.show()\n"
   ]
  },
  {
   "cell_type": "code",
   "execution_count": 7,
   "id": "52ed9156",
   "metadata": {
    "execution": {
     "iopub.execute_input": "2023-06-13T02:23:42.332148Z",
     "iopub.status.busy": "2023-06-13T02:23:42.330630Z",
     "iopub.status.idle": "2023-06-13T02:23:42.551026Z",
     "shell.execute_reply": "2023-06-13T02:23:42.549839Z"
    },
    "papermill": {
     "duration": 0.227678,
     "end_time": "2023-06-13T02:23:42.553051",
     "exception": false,
     "start_time": "2023-06-13T02:23:42.325373",
     "status": "completed"
    },
    "tags": []
   },
   "outputs": [
    {
     "data": {
      "image/png": "[encoded data removed]",
      "text/plain": [
       "<Figure size 800x600 with 2 Axes>"
      ]
     },
     "metadata": {},
     "output_type": "display_data"
    }
   ],
   "source": [
    "pivot_table = df.pivot_table(values='success', index='stone_size', columns='treatment', aggfunc='mean')\n",
    "\n",
    "plt.figure(figsize=(8, 6))\n",
    "sns.heatmap(pivot_table, annot=True, cmap='Blues', fmt='.2f')\n",
    "plt.xlabel('Treatment')\n",
    "plt.ylabel('Stone Size')\n",
    "plt.title('Treatment Success Rates by Stone Size')\n",
    "plt.show()\n"
   ]
  },
  {
   "cell_type": "markdown",
   "id": "c76900ee",
   "metadata": {
    "papermill": {
     "duration": 0.00433,
     "end_time": "2023-06-13T02:23:42.562458",
     "exception": false,
     "start_time": "2023-06-13T02:23:42.558128",
     "status": "completed"
    },
    "tags": []
   },
   "source": [
    "# **Logistic Regression**"
   ]
  },
  {
   "cell_type": "code",
   "execution_count": 8,
   "id": "aa29ed10",
   "metadata": {
    "execution": {
     "iopub.execute_input": "2023-06-13T02:23:42.573124Z",
     "iopub.status.busy": "2023-06-13T02:23:42.572792Z",
     "iopub.status.idle": "2023-06-13T02:23:42.901487Z",
     "shell.execute_reply": "2023-06-13T02:23:42.900591Z"
    },
    "papermill": {
     "duration": 0.336521,
     "end_time": "2023-06-13T02:23:42.903512",
     "exception": false,
     "start_time": "2023-06-13T02:23:42.566991",
     "status": "completed"
    },
    "tags": []
   },
   "outputs": [],
   "source": [
    "from sklearn.linear_model import LogisticRegression\n",
    "from sklearn.model_selection import GridSearchCV\n",
    "from sklearn.model_selection import train_test_split"
   ]
  },
  {
   "cell_type": "code",
   "execution_count": 9,
   "id": "f23ee1de",
   "metadata": {
    "execution": {
     "iopub.execute_input": "2023-06-13T02:23:42.914394Z",
     "iopub.status.busy": "2023-06-13T02:23:42.914048Z",
     "iopub.status.idle": "2023-06-13T02:23:42.927832Z",
     "shell.execute_reply": "2023-06-13T02:23:42.926944Z"
    },
    "papermill": {
     "duration": 0.021139,
     "end_time": "2023-06-13T02:23:42.929598",
     "exception": false,
     "start_time": "2023-06-13T02:23:42.908459",
     "status": "completed"
    },
    "tags": []
   },
   "outputs": [],
   "source": [
    "X = df.drop(\"success\", axis=1)\n",
    "y = df[\"success\"]\n",
    "\n",
    "# Perform one-hot encoding on the categorical variables\n",
    "X = pd.get_dummies(X, columns=[\"treatment\", \"stone_size\"], drop_first=True)\n",
    "\n",
    "# Split the data into training and testing sets\n",
    "X_train, X_test, y_train, y_test = train_test_split(X, y, test_size=0.2, random_state=42)\n",
    "\n",
    "# Define the logistic regression model\n",
    "model = LogisticRegression()\n",
    "\n",
    "# Define the parameter grid for GridSearchCV\n",
    "param_grid = {\n",
    "    'penalty': ['l1', 'l2'],\n",
    "    'C': [0.1, 1, 10, 100],\n",
    "    'solver': ['liblinear']\n",
    "}\n"
   ]
  },
  {
   "cell_type": "code",
   "execution_count": 10,
   "id": "3a091e94",
   "metadata": {
    "execution": {
     "iopub.execute_input": "2023-06-13T02:23:42.940585Z",
     "iopub.status.busy": "2023-06-13T02:23:42.939807Z",
     "iopub.status.idle": "2023-06-13T02:23:43.114572Z",
     "shell.execute_reply": "2023-06-13T02:23:43.113708Z"
    },
    "papermill": {
     "duration": 0.182217,
     "end_time": "2023-06-13T02:23:43.116565",
     "exception": false,
     "start_time": "2023-06-13T02:23:42.934348",
     "status": "completed"
    },
    "tags": []
   },
   "outputs": [
    {
     "data": {
      "text/html": [
       "<style>#sk-container-id-1 {color: black;background-color: white;}#sk-container-id-1 pre{padding: 0;}#sk-container-id-1 div.sk-toggleable {background-color: white;}#sk-container-id-1 label.sk-toggleable__label {cursor: pointer;display: block;width: 100%;margin-bottom: 0;padding: 0.3em;box-sizing: border-box;text-align: center;}#sk-container-id-1 label.sk-toggleable__label-arrow:before {content: \"▸\";float: left;margin-right: 0.25em;color: #696969;}#sk-container-id-1 label.sk-toggleable__label-arrow:hover:before {color: black;}#sk-container-id-1 div.sk-estimator:hover label.sk-toggleable__label-arrow:before {color: black;}#sk-container-id-1 div.sk-toggleable__content {max-height: 0;max-width: 0;overflow: hidden;text-align: left;background-color: #f0f8ff;}#sk-container-id-1 div.sk-toggleable__content pre {margin: 0.2em;color: black;border-radius: 0.25em;background-color: #f0f8ff;}#sk-container-id-1 input.sk-toggleable__control:checked~div.sk-toggleable__content {max-height: 200px;max-width: 100%;overflow: auto;}#sk-container-id-1 input.sk-toggleable__control:checked~label.sk-toggleable__label-arrow:before {content: \"▾\";}#sk-container-id-1 div.sk-estimator input.sk-toggleable__control:checked~label.sk-toggleable__label {background-color: #d4ebff;}#sk-container-id-1 div.sk-label input.sk-toggleable__control:checked~label.sk-toggleable__label {background-color: #d4ebff;}#sk-container-id-1 input.sk-hidden--visually {border: 0;clip: rect(1px 1px 1px 1px);clip: rect(1px, 1px, 1px, 1px);height: 1px;margin: -1px;overflow: hidden;padding: 0;position: absolute;width: 1px;}#sk-container-id-1 div.sk-estimator {font-family: monospace;background-color: #f0f8ff;border: 1px dotted black;border-radius: 0.25em;box-sizing: border-box;margin-bottom: 0.5em;}#sk-container-id-1 div.sk-estimator:hover {background-color: #d4ebff;}#sk-container-id-1 div.sk-parallel-item::after {content: \"\";width: 100%;border-bottom: 1px solid gray;flex-grow: 1;}#sk-container-id-1 div.sk-label:hover label.sk-toggleable__label {background-color: #d4ebff;}#sk-container-id-1 div.sk-serial::before {content: \"\";position: absolute;border-left: 1px solid gray;box-sizing: border-box;top: 0;bottom: 0;left: 50%;z-index: 0;}#sk-container-id-1 div.sk-serial {display: flex;flex-direction: column;align-items: center;background-color: white;padding-right: 0.2em;padding-left: 0.2em;position: relative;}#sk-container-id-1 div.sk-item {position: relative;z-index: 1;}#sk-container-id-1 div.sk-parallel {display: flex;align-items: stretch;justify-content: center;background-color: white;position: relative;}#sk-container-id-1 div.sk-item::before, #sk-container-id-1 div.sk-parallel-item::before {content: \"\";position: absolute;border-left: 1px solid gray;box-sizing: border-box;top: 0;bottom: 0;left: 50%;z-index: -1;}#sk-container-id-1 div.sk-parallel-item {display: flex;flex-direction: column;z-index: 1;position: relative;background-color: white;}#sk-container-id-1 div.sk-parallel-item:first-child::after {align-self: flex-end;width: 50%;}#sk-container-id-1 div.sk-parallel-item:last-child::after {align-self: flex-start;width: 50%;}#sk-container-id-1 div.sk-parallel-item:only-child::after {width: 0;}#sk-container-id-1 div.sk-dashed-wrapped {border: 1px dashed gray;margin: 0 0.4em 0.5em 0.4em;box-sizing: border-box;padding-bottom: 0.4em;background-color: white;}#sk-container-id-1 div.sk-label label {font-family: monospace;font-weight: bold;display: inline-block;line-height: 1.2em;}#sk-container-id-1 div.sk-label-container {text-align: center;}#sk-container-id-1 div.sk-container {/* jupyter's `normalize.less` sets `[hidden] { display: none; }` but bootstrap.min.css set `[hidden] { display: none !important; }` so we also need the `!important` here to be able to override the default hidden behavior on the sphinx rendered scikit-learn.org. See: https://github.com/scikit-learn/scikit-learn/issues/21755 */display: inline-block !important;position: relative;}#sk-container-id-1 div.sk-text-repr-fallback {display: none;}</style><div id=\"sk-container-id-1\" class=\"sk-top-container\"><div class=\"sk-text-repr-fallback\"><pre>GridSearchCV(cv=5, estimator=LogisticRegression(),\n",
       "             param_grid={&#x27;C&#x27;: [0.1, 1, 10, 100], &#x27;penalty&#x27;: [&#x27;l1&#x27;, &#x27;l2&#x27;],\n",
       "                         &#x27;solver&#x27;: [&#x27;liblinear&#x27;]})</pre><b>In a Jupyter environment, please rerun this cell to show the HTML representation or trust the notebook. <br />On GitHub, the HTML representation is unable to render, please try loading this page with nbviewer.org.</b></div><div class=\"sk-container\" hidden><div class=\"sk-item sk-dashed-wrapped\"><div class=\"sk-label-container\"><div class=\"sk-label sk-toggleable\"><input class=\"sk-toggleable__control sk-hidden--visually\" id=\"sk-estimator-id-1\" type=\"checkbox\" ><label for=\"sk-estimator-id-1\" class=\"sk-toggleable__label sk-toggleable__label-arrow\">GridSearchCV</label><div class=\"sk-toggleable__content\"><pre>GridSearchCV(cv=5, estimator=LogisticRegression(),\n",
       "             param_grid={&#x27;C&#x27;: [0.1, 1, 10, 100], &#x27;penalty&#x27;: [&#x27;l1&#x27;, &#x27;l2&#x27;],\n",
       "                         &#x27;solver&#x27;: [&#x27;liblinear&#x27;]})</pre></div></div></div><div class=\"sk-parallel\"><div class=\"sk-parallel-item\"><div class=\"sk-item\"><div class=\"sk-label-container\"><div class=\"sk-label sk-toggleable\"><input class=\"sk-toggleable__control sk-hidden--visually\" id=\"sk-estimator-id-2\" type=\"checkbox\" ><label for=\"sk-estimator-id-2\" class=\"sk-toggleable__label sk-toggleable__label-arrow\">estimator: LogisticRegression</label><div class=\"sk-toggleable__content\"><pre>LogisticRegression()</pre></div></div></div><div class=\"sk-serial\"><div class=\"sk-item\"><div class=\"sk-estimator sk-toggleable\"><input class=\"sk-toggleable__control sk-hidden--visually\" id=\"sk-estimator-id-3\" type=\"checkbox\" ><label for=\"sk-estimator-id-3\" class=\"sk-toggleable__label sk-toggleable__label-arrow\">LogisticRegression</label><div class=\"sk-toggleable__content\"><pre>LogisticRegression()</pre></div></div></div></div></div></div></div></div></div></div>"
      ],
      "text/plain": [
       "GridSearchCV(cv=5, estimator=LogisticRegression(),\n",
       "             param_grid={'C': [0.1, 1, 10, 100], 'penalty': ['l1', 'l2'],\n",
       "                         'solver': ['liblinear']})"
      ]
     },
     "execution_count": 10,
     "metadata": {},
     "output_type": "execute_result"
    }
   ],
   "source": [
    "grid_search = GridSearchCV(model, param_grid, cv=5)\n",
    "grid_search.fit(X_train, y_train)"
   ]
  },
  {
   "cell_type": "code",
   "execution_count": 11,
   "id": "62d5780e",
   "metadata": {
    "execution": {
     "iopub.execute_input": "2023-06-13T02:23:43.128521Z",
     "iopub.status.busy": "2023-06-13T02:23:43.128208Z",
     "iopub.status.idle": "2023-06-13T02:23:43.132804Z",
     "shell.execute_reply": "2023-06-13T02:23:43.131964Z"
    },
    "papermill": {
     "duration": 0.012534,
     "end_time": "2023-06-13T02:23:43.134635",
     "exception": false,
     "start_time": "2023-06-13T02:23:43.122101",
     "status": "completed"
    },
    "tags": []
   },
   "outputs": [
    {
     "name": "stdout",
     "output_type": "stream",
     "text": [
      "Best Hyperparameters: {'C': 0.1, 'penalty': 'l1', 'solver': 'liblinear'}\n"
     ]
    }
   ],
   "source": [
    "best_params = grid_search.best_params_\n",
    "best_model = grid_search.best_estimator_\n",
    "print(\"Best Hyperparameters:\", best_params)\n"
   ]
  },
  {
   "cell_type": "code",
   "execution_count": 12,
   "id": "39c59c53",
   "metadata": {
    "execution": {
     "iopub.execute_input": "2023-06-13T02:23:43.146954Z",
     "iopub.status.busy": "2023-06-13T02:23:43.146302Z",
     "iopub.status.idle": "2023-06-13T02:23:43.162090Z",
     "shell.execute_reply": "2023-06-13T02:23:43.161009Z"
    },
    "papermill": {
     "duration": 0.024303,
     "end_time": "2023-06-13T02:23:43.163993",
     "exception": false,
     "start_time": "2023-06-13T02:23:43.139690",
     "status": "completed"
    },
    "tags": []
   },
   "outputs": [
    {
     "name": "stdout",
     "output_type": "stream",
     "text": [
      "Accuracy: 0.780952380952381\n"
     ]
    }
   ],
   "source": [
    "X = df.drop(\"success\", axis=1)\n",
    "y = df[\"success\"]\n",
    "\n",
    "# Perform one-hot encoding on the categorical variables\n",
    "X = pd.get_dummies(X, columns=[\"treatment\", \"stone_size\"], drop_first=True)\n",
    "\n",
    "# Split the data into training and testing sets\n",
    "X_train, X_test, y_train, y_test = train_test_split(X, y, test_size=0.3, random_state=42)\n",
    "\n",
    "# Define the logistic regression model with the best hyperparameters\n",
    "model = LogisticRegression(C=0.1, penalty='l1', solver='liblinear')\n",
    "\n",
    "# Fit the logistic regression model\n",
    "model.fit(X_train, y_train)\n",
    "\n",
    "\n",
    "accuracy = model.score(X_test, y_test)\n",
    "print(\"Accuracy:\", accuracy)"
   ]
  },
  {
   "cell_type": "code",
   "execution_count": null,
   "id": "e0cc1f0a",
   "metadata": {
    "papermill": {
     "duration": 0.004896,
     "end_time": "2023-06-13T02:23:43.174082",
     "exception": false,
     "start_time": "2023-06-13T02:23:43.169186",
     "status": "completed"
    },
    "tags": []
   },
   "outputs": [],
   "source": []
  }
 ],
 "metadata": {
  "kernelspec": {
   "display_name": "Python 3",
   "language": "python",
   "name": "python3"
  },
  "language_info": {
   "codemirror_mode": {
    "name": "ipython",
    "version": 3
   },
   "file_extension": ".py",
   "mimetype": "text/x-python",
   "name": "python",
   "nbconvert_exporter": "python",
   "pygments_lexer": "ipython3",
   "version": "3.10.10"
  },
  "papermill": {
   "default_parameters": {},
   "duration": 11.804431,
   "end_time": "2023-06-13T02:23:44.100052",
   "environment_variables": {},
   "exception": null,
   "input_path": "__notebook__.ipynb",
   "output_path": "__notebook__.ipynb",
   "parameters": {},
   "start_time": "2023-06-13T02:23:32.295621",
   "version": "2.4.0"
  }
 },
 "nbformat": 4,
 "nbformat_minor": 5
}
